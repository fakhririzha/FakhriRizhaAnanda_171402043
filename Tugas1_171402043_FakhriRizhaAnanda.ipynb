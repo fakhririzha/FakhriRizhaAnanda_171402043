{
 "cells": [
  {
   "cell_type": "code",
   "execution_count": 1,
   "metadata": {},
   "outputs": [],
   "source": [
    "class Fibonacci:\n",
    "\n",
    "    # Constructor dari kelas Fibonacci\n",
    "    def __init__(self, a, n):\n",
    "        self.iteration = n      # Set jumlah iterasi maksimum\n",
    "        self.fibo(a, a, 0)      # Panggil fungsi rekursif\n",
    "\n",
    "    def fibo(self, num, prev, i):\n",
    "        # temp adalah variabel penyimpanan sementara dari bilangan ke- (i-1)\n",
    "        temp = 0\n",
    "\n",
    "        # Stop rekursif jika jumlah iterasi sudah dalam posisi maksimum iterasi dikurang 1\n",
    "        if i is self.iteration-1:\n",
    "            print(num)\n",
    "        else:\n",
    "            print(num)\n",
    "            i += 1\n",
    "\n",
    "            # Jika bilangan awal adalah 0\n",
    "            if num is 0:\n",
    "                num += 1\n",
    "                self.fibo(num, prev, i)\n",
    "            else:\n",
    "                temp = prev\n",
    "                prev = num\n",
    "                num += temp\n",
    "                self.fibo(num, prev, i)"
   ]
  },
  {
   "cell_type": "code",
   "execution_count": 2,
   "metadata": {},
   "outputs": [
    {
     "name": "stdout",
     "output_type": "stream",
     "text": [
      "Enter a starting number for the fibonacci number series: 0\n",
      "Enter the number of iterations: 10\n"
     ]
    }
   ],
   "source": [
    "# Meminta user untuk memasukkan bilangan awal, jika user tidak memasukkan angka, maka default valuenya adalah 0\n",
    "a = int(input(\"Enter a starting number for the fibonacci number series: \") or 0)\n",
    "# Meminta user untuk memasukkan jumlah iterasi maksimum, jika user tidak memasukkan angka, maka default valuenya adalah 1\n",
    "n = int(input(\"Enter the number of iterations: \") or 1)"
   ]
  },
  {
   "cell_type": "code",
   "execution_count": 3,
   "metadata": {},
   "outputs": [
    {
     "name": "stdout",
     "output_type": "stream",
     "text": [
      "0\n",
      "1\n",
      "1\n",
      "2\n",
      "3\n",
      "5\n",
      "8\n",
      "13\n",
      "21\n",
      "34\n"
     ]
    }
   ],
   "source": [
    "# Membuat objek dari class Fibonacci yang akan otomatis memanggil fungsi fibo dalam skema rekursif\n",
    "Result = Fibonacci(a, n)"
   ]
  },
  {
   "cell_type": "code",
   "execution_count": null,
   "metadata": {},
   "outputs": [],
   "source": []
  },
  {
   "cell_type": "code",
   "execution_count": null,
   "metadata": {},
   "outputs": [],
   "source": []
  }
 ],
 "metadata": {
  "kernelspec": {
   "display_name": "Python 3",
   "language": "python",
   "name": "python3"
  },
  "language_info": {
   "codemirror_mode": {
    "name": "ipython",
    "version": 3
   },
   "file_extension": ".py",
   "mimetype": "text/x-python",
   "name": "python",
   "nbconvert_exporter": "python",
   "pygments_lexer": "ipython3",
   "version": "3.7.2"
  }
 },
 "nbformat": 4,
 "nbformat_minor": 2
}
